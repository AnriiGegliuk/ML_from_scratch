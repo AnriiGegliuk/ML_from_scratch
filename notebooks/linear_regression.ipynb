{
 "cells": [
  {
   "cell_type": "code",
   "execution_count": 4,
   "metadata": {},
   "outputs": [],
   "source": [
    "import numpy as np\n",
    "import pandas as pd"
   ]
  },
  {
   "cell_type": "code",
   "execution_count": 43,
   "metadata": {},
   "outputs": [],
   "source": [
    "# creating LR class\n",
    "class LinearRegression:\n",
    "    def __init__(self, lr = 0.0001, iter = 1000):\n",
    "        self.lr = lr\n",
    "        self.iter = iter\n",
    "        self.slope = None\n",
    "        self.intercept = None\n",
    "        \n",
    "    # creating fit methond   \n",
    "    def fit(self, X, y):\n",
    "        sample, features = X.shape\n",
    "        self.slope = np.zeros(features)\n",
    "        self.intercept = 0\n",
    "        \n",
    "        # compute gradients\n",
    "        for i in range(self.iter):\n",
    "            y_pred = self.predict(X)\n",
    "            \n",
    "            d_slope = (1 / sample) * np.dot(X.T, (y_pred - y))\n",
    "            d_intercept = (1 / sample) * np.sum(y_pred - y)\n",
    "            \n",
    "            # update parameters\n",
    "            self.slope -= self.lr * d_slope\n",
    "            self.intercept -= self.lr * d_intercept\n",
    "            \n",
    "    # predicting\n",
    "    def predict(self, X):\n",
    "        y_pred =  self.intercept + np.dot(X, self.slope)\n",
    "        return y_pred\n",
    "        "
   ]
  },
  {
   "cell_type": "code",
   "execution_count": 12,
   "metadata": {},
   "outputs": [
    {
     "data": {
      "text/html": [
       "<div>\n",
       "<style scoped>\n",
       "    .dataframe tbody tr th:only-of-type {\n",
       "        vertical-align: middle;\n",
       "    }\n",
       "\n",
       "    .dataframe tbody tr th {\n",
       "        vertical-align: top;\n",
       "    }\n",
       "\n",
       "    .dataframe thead th {\n",
       "        text-align: right;\n",
       "    }\n",
       "</style>\n",
       "<table border=\"1\" class=\"dataframe\">\n",
       "  <thead>\n",
       "    <tr style=\"text-align: right;\">\n",
       "      <th></th>\n",
       "      <th>Age</th>\n",
       "      <th>Mileage</th>\n",
       "      <th>Horsepower</th>\n",
       "      <th>Price</th>\n",
       "    </tr>\n",
       "  </thead>\n",
       "  <tbody>\n",
       "    <tr>\n",
       "      <th>0</th>\n",
       "      <td>7</td>\n",
       "      <td>84298</td>\n",
       "      <td>345</td>\n",
       "      <td>22235.10</td>\n",
       "    </tr>\n",
       "    <tr>\n",
       "      <th>1</th>\n",
       "      <td>9</td>\n",
       "      <td>96252</td>\n",
       "      <td>333</td>\n",
       "      <td>19517.40</td>\n",
       "    </tr>\n",
       "    <tr>\n",
       "      <th>2</th>\n",
       "      <td>3</td>\n",
       "      <td>6559</td>\n",
       "      <td>211</td>\n",
       "      <td>28782.05</td>\n",
       "    </tr>\n",
       "    <tr>\n",
       "      <th>3</th>\n",
       "      <td>6</td>\n",
       "      <td>69206</td>\n",
       "      <td>290</td>\n",
       "      <td>23439.70</td>\n",
       "    </tr>\n",
       "    <tr>\n",
       "      <th>4</th>\n",
       "      <td>6</td>\n",
       "      <td>51176</td>\n",
       "      <td>143</td>\n",
       "      <td>22871.20</td>\n",
       "    </tr>\n",
       "  </tbody>\n",
       "</table>\n",
       "</div>"
      ],
      "text/plain": [
       "   Age  Mileage  Horsepower     Price\n",
       "0    7    84298         345  22235.10\n",
       "1    9    96252         333  19517.40\n",
       "2    3     6559         211  28782.05\n",
       "3    6    69206         290  23439.70\n",
       "4    6    51176         143  22871.20"
      ]
     },
     "execution_count": 12,
     "metadata": {},
     "output_type": "execute_result"
    }
   ],
   "source": [
    "# loading dataframe\n",
    "\n",
    "data = pd.read_csv('../data/car.csv')\n",
    "data.head()"
   ]
  },
  {
   "cell_type": "code",
   "execution_count": 16,
   "metadata": {},
   "outputs": [
    {
     "name": "stdout",
     "output_type": "stream",
     "text": [
      "<class 'pandas.core.frame.DataFrame'>\n",
      "RangeIndex: 1000 entries, 0 to 999\n",
      "Data columns (total 4 columns):\n",
      " #   Column      Non-Null Count  Dtype  \n",
      "---  ------      --------------  -----  \n",
      " 0   Age         1000 non-null   int64  \n",
      " 1   Mileage     1000 non-null   int64  \n",
      " 2   Horsepower  1000 non-null   int64  \n",
      " 3   Price       1000 non-null   float64\n",
      "dtypes: float64(1), int64(3)\n",
      "memory usage: 31.4 KB\n"
     ]
    }
   ],
   "source": [
    "data.info()"
   ]
  },
  {
   "cell_type": "code",
   "execution_count": 18,
   "metadata": {},
   "outputs": [
    {
     "data": {
      "text/plain": [
       "0"
      ]
     },
     "execution_count": 18,
     "metadata": {},
     "output_type": "execute_result"
    }
   ],
   "source": [
    "# checking duplicated values\n",
    "data.duplicated().sum()"
   ]
  },
  {
   "cell_type": "code",
   "execution_count": 19,
   "metadata": {},
   "outputs": [
    {
     "data": {
      "text/plain": [
       "Age           0\n",
       "Mileage       0\n",
       "Horsepower    0\n",
       "Price         0\n",
       "dtype: int64"
      ]
     },
     "execution_count": 19,
     "metadata": {},
     "output_type": "execute_result"
    }
   ],
   "source": [
    "# checking null values\n",
    "data.isna().sum()"
   ]
  },
  {
   "cell_type": "code",
   "execution_count": 20,
   "metadata": {},
   "outputs": [
    {
     "name": "stdout",
     "output_type": "stream",
     "text": [
      "800\n"
     ]
    }
   ],
   "source": [
    "# deviding into train and test split without using any additional libraries\n",
    "\n",
    "split = int(0.8 * len(data))\n",
    "print(split)"
   ]
  },
  {
   "cell_type": "code",
   "execution_count": 24,
   "metadata": {},
   "outputs": [],
   "source": [
    "# deviding into train and test split using 80% data for train and 20% for test\n",
    "X_train = data[['Age', 'Mileage', 'Horsepower']].iloc[:split].values\n",
    "X_test = data[['Age', 'Mileage', 'Horsepower']].iloc[split:].values\n",
    "y_train = data['Price'].iloc[:split].values\n",
    "y_test = data['Price'].iloc[split:].values"
   ]
  },
  {
   "cell_type": "code",
   "execution_count": 26,
   "metadata": {},
   "outputs": [
    {
     "data": {
      "text/plain": [
       "((800, 3), (200, 3), (800,), (200,))"
      ]
     },
     "execution_count": 26,
     "metadata": {},
     "output_type": "execute_result"
    }
   ],
   "source": [
    "# confirming shape\n",
    "X_train.shape, X_test.shape, y_train.shape, y_test.shape"
   ]
  },
  {
   "cell_type": "code",
   "execution_count": 31,
   "metadata": {},
   "outputs": [],
   "source": [
    "# let's standarize our data \n",
    "\n",
    "def standarized(X):\n",
    "    mean = np.mean(X, axis=0)\n",
    "    std = np.std(X, axis=0)\n",
    "    \n",
    "    return (X - mean) / std\n",
    "    "
   ]
  },
  {
   "cell_type": "code",
   "execution_count": 32,
   "metadata": {},
   "outputs": [],
   "source": [
    "# let's apply our function to X_train & X_test\n",
    "X_train_standarized = standarized(X_train)\n",
    "X_test_standarized = standarized(X_test)"
   ]
  },
  {
   "cell_type": "code",
   "execution_count": 41,
   "metadata": {},
   "outputs": [
    {
     "data": {
      "text/plain": [
       "array([[ 1.50974574,  1.36149844, -0.96915731],\n",
       "       [ 0.34391891, -1.18898172, -0.4570997 ],\n",
       "       [ 0.34391891, -1.07147046,  0.39044393],\n",
       "       [-1.21051686,  0.1288964 ,  1.16735892],\n",
       "       [ 0.73252786, -0.45140525,  1.37924482],\n",
       "       [-0.82190791,  1.29251105,  1.37041624],\n",
       "       [-1.21051686, -1.0952191 , -1.50770065],\n",
       "       [ 0.34391891,  1.46816197,  0.67295847],\n",
       "       [ 1.50974574, -0.41674046,  0.46107256],\n",
       "       [-1.21051686, -0.43142081,  0.85835864]])"
      ]
     },
     "execution_count": 41,
     "metadata": {},
     "output_type": "execute_result"
    }
   ],
   "source": [
    "# printing standarized X_test\n",
    "X_test_standarized[:10]"
   ]
  },
  {
   "cell_type": "code",
   "execution_count": 42,
   "metadata": {},
   "outputs": [
    {
     "data": {
      "text/plain": [
       "array([[ 0.7610666 ,  1.15026518,  0.4621742 ],\n",
       "       [ 1.51599937,  1.57809001,  0.35573355],\n",
       "       [-0.74879894, -1.63195625, -0.72641314],\n",
       "       [ 0.38360021,  0.61013364, -0.02567881],\n",
       "       [ 0.38360021, -0.03514676, -1.32957686],\n",
       "       [-1.50373171,  1.54409022,  0.32912338],\n",
       "       [-0.74879894,  1.44176872, -1.48036779],\n",
       "       [ 0.38360021,  1.14010103,  0.92341705],\n",
       "       [ 0.00613383, -0.75919931,  0.15172229],\n",
       "       [ 0.38360021, -1.56785769,  0.69279563]])"
      ]
     },
     "execution_count": 42,
     "metadata": {},
     "output_type": "execute_result"
    }
   ],
   "source": [
    "# printing standarized X_train\n",
    "X_train_standarized[:10]"
   ]
  },
  {
   "cell_type": "code",
   "execution_count": 44,
   "metadata": {},
   "outputs": [],
   "source": [
    "# instantiating model\n",
    "model = LinearRegression()"
   ]
  },
  {
   "cell_type": "code",
   "execution_count": 46,
   "metadata": {},
   "outputs": [],
   "source": [
    "# fitting our training set into the model\n",
    "model.fit(X_train_standarized, y_train)"
   ]
  },
  {
   "cell_type": "code",
   "execution_count": 47,
   "metadata": {},
   "outputs": [
    {
     "data": {
      "text/plain": [
       "array([-243.91548366, -121.44534126,   95.96667426])"
      ]
     },
     "execution_count": 47,
     "metadata": {},
     "output_type": "execute_result"
    }
   ],
   "source": [
    "model.slope"
   ]
  },
  {
   "cell_type": "code",
   "execution_count": 48,
   "metadata": {},
   "outputs": [
    {
     "data": {
      "text/plain": [
       "2411.2773000171683"
      ]
     },
     "execution_count": 48,
     "metadata": {},
     "output_type": "execute_result"
    }
   ],
   "source": [
    "model.intercept"
   ]
  },
  {
   "cell_type": "code",
   "execution_count": 49,
   "metadata": {},
   "outputs": [
    {
     "data": {
      "text/plain": [
       "array([1784.67249152, 2427.92010399, 2494.98485262, 2802.91479013,\n",
       "       2419.78501683, 2586.29821009, 2694.8613437 , 2213.67030618,\n",
       "       2137.88572453, 2841.30897519, 2638.54107299, 2767.25389951,\n",
       "       2251.73903877, 1946.82737593, 1959.10165353, 2284.70153118,\n",
       "       2417.70632635, 2569.54770891, 2009.21198549, 2423.54557007,\n",
       "       2262.03142117, 2611.88336061, 2839.17102709, 2489.01905521,\n",
       "       2117.8809679 , 2683.67679996, 2844.83243207, 2722.35926592,\n",
       "       2499.08595878, 2971.46424608, 2594.08305023, 2277.24875657,\n",
       "       2449.25697184, 2154.27011332, 2362.61802809, 2150.68590633,\n",
       "       2078.39860856, 1991.20193518, 2509.11133947, 2553.13901806,\n",
       "       2769.54257927, 2478.49921452, 2310.40065783, 2003.81032017,\n",
       "       2200.75538179, 2566.73534327, 2305.54788773, 2555.81473519,\n",
       "       2445.14522441, 2898.49642241, 1849.05227495, 2110.75075878,\n",
       "       2087.66827768, 2120.80157572, 2986.85837262, 2617.27020301,\n",
       "       2468.28789834, 2185.25979552, 2350.80709364, 2679.21766079,\n",
       "       2674.99195788, 1900.2365728 , 2208.05608454, 2377.8588072 ,\n",
       "       2630.53233991, 2251.69956579, 1850.52473379, 2198.14520242,\n",
       "       3075.58524614, 2933.46606795, 2517.51848909, 2602.01168164,\n",
       "       2451.86390141, 2428.91756236, 2374.17580154, 1871.98236652,\n",
       "       2414.83971314, 2269.97066805, 2454.26143362, 2623.86629879,\n",
       "       2356.3595587 , 2241.4706434 , 2049.13989803, 2492.03248284,\n",
       "       2105.42130906, 2715.46571254, 2285.49090765, 2447.52888603,\n",
       "       1806.15220496, 2617.16909641, 2763.94784927, 2065.09425554,\n",
       "       2018.56465296, 2697.81047663, 1839.98396484, 2505.98127916,\n",
       "       2636.19335499, 2574.06342939, 2284.08659579, 2302.27273975,\n",
       "       2130.61472088, 2107.55345966, 2549.70853202, 2255.30127113,\n",
       "       2251.23531145, 2747.51187309, 2749.76010337, 2567.04073136,\n",
       "       2719.46864439, 2480.12879001, 2867.25539433, 2511.28412631,\n",
       "       2825.21161982, 1725.27305997, 2480.02247126, 2606.25636571,\n",
       "       2116.99955482, 2214.09361883, 2777.37948705, 2355.05062516,\n",
       "       2344.008576  , 2443.58737712, 2623.37794413, 2858.46881801,\n",
       "       2763.89120857, 2102.06423187, 2137.38383193, 2365.79740686,\n",
       "       2425.6484028 , 2493.11186376, 2619.84757619, 2167.21219566,\n",
       "       2745.74025436, 2595.0708091 , 2736.70612326, 2596.55344582,\n",
       "       2231.34187175, 2445.76949296, 2409.00619893, 2598.29936148,\n",
       "       1870.23606537, 2098.97777548, 2610.3440691 , 2498.74516486,\n",
       "       2667.87591522, 2057.98455346, 1900.02471939, 2902.45224882,\n",
       "       2608.50087446, 2427.08553584, 1780.57283786, 2716.74802818,\n",
       "       2771.90521646, 2536.75494127, 2394.00173335, 2139.07682098,\n",
       "       2311.66471054, 2698.86017369, 1734.00717397, 2495.65051242,\n",
       "       2288.91940643, 2913.6895451 , 2484.13778617, 2599.84359293,\n",
       "       2391.46360295, 2561.97805645, 2089.29004475, 2605.81378054,\n",
       "       1840.75669398, 2646.21148026, 2167.16137499, 2462.28079096,\n",
       "       2687.87836922, 2238.11440012, 2445.09108382, 2157.72166482,\n",
       "       2433.48871824, 2125.39989054, 2866.82754034, 2667.65369602,\n",
       "       2598.55351105, 2351.78139878, 1755.32714205, 2602.24485207,\n",
       "       2722.61110542, 2142.78965638, 2689.68303693, 2643.93980841,\n",
       "       2221.55419228, 2273.02593836, 2227.57563791, 2901.99864205,\n",
       "       2197.32023459, 2425.34525582, 2103.38293174, 2074.34374158,\n",
       "       2420.82162109, 2840.29100764, 2154.16084933, 2534.13038926])"
      ]
     },
     "execution_count": 49,
     "metadata": {},
     "output_type": "execute_result"
    }
   ],
   "source": [
    "# checking prediction\n",
    "y_pred = model.predict(X_test_standarized)\n",
    "y_pred"
   ]
  }
 ],
 "metadata": {
  "kernelspec": {
   "display_name": "lewagon",
   "language": "python",
   "name": "python3"
  },
  "language_info": {
   "codemirror_mode": {
    "name": "ipython",
    "version": 3
   },
   "file_extension": ".py",
   "mimetype": "text/x-python",
   "name": "python",
   "nbconvert_exporter": "python",
   "pygments_lexer": "ipython3",
   "version": "3.10.6"
  },
  "orig_nbformat": 4
 },
 "nbformat": 4,
 "nbformat_minor": 2
}
